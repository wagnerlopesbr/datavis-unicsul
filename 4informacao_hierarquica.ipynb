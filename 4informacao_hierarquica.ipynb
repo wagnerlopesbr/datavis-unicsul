{
 "cells": [
  {
   "cell_type": "code",
   "execution_count": null,
   "id": "1c3d0be5",
   "metadata": {},
   "outputs": [
    {
     "data": {
      "application/vnd.plotly.v1+json": {
       "config": {
        "plotlyServerURL": "https://plot.ly"
       },
       "data": [
        {
         "branchvalues": "total",
         "customdata": [
          [
           "1.76"
          ],
          [
           "1.76"
          ],
          [
           "1.69"
          ],
          [
           "1.84"
          ],
          [
           "1.78"
          ],
          [
           "1.77"
          ],
          [
           "1.81"
          ],
          [
           "1.79"
          ],
          [
           "1.81"
          ],
          [
           "1.71"
          ],
          [
           "1.68"
          ],
          [
           "1.72"
          ],
          [
           "1.58"
          ],
          [
           "1.6"
          ],
          [
           "1.84"
          ],
          [
           "1.67"
          ],
          [
           "1.67"
          ],
          [
           "1.56"
          ],
          [
           "1.59"
          ],
          [
           "1.66"
          ],
          [
           "1.61"
          ],
          [
           "1.79"
          ],
          [
           "1.77"
          ],
          [
           "1.75"
          ],
          [
           "1.85"
          ],
          [
           "2.03"
          ],
          [
           "2.08"
          ],
          [
           "1.72"
          ],
          [
           "1.79"
          ],
          [
           "2.03"
          ],
          [
           "2.05"
          ],
          [
           "1.79"
          ],
          [
           "1.98"
          ],
          [
           "2.07"
          ],
          [
           "2.03"
          ],
          [
           "2.03"
          ],
          [
           "2.0"
          ],
          [
           "2.35"
          ],
          [
           "2.35"
          ],
          [
           "1.97"
          ],
          [
           "2.03"
          ],
          [
           "2.25"
          ],
          [
           "2.17"
          ],
          [
           "1.99"
          ],
          [
           "2.04"
          ],
          [
           "2.3"
          ],
          [
           "2.19"
          ],
          [
           "2.27"
          ],
          [
           "2.23"
          ],
          [
           "2.27"
          ],
          [
           "2.65"
          ],
          [
           "2.38"
          ],
          [
           "2.38"
          ],
          [
           "2.22"
          ],
          [
           "2.23"
          ],
          [
           "2.33"
          ],
          [
           "2.22"
          ],
          [
           "2.55"
          ],
          [
           "2.45"
          ],
          [
           "2.34"
          ],
          [
           "3.04"
          ],
          [
           "3.51"
          ],
          [
           "3.88"
          ],
          [
           "2.82"
          ],
          [
           "2.63"
          ],
          [
           "3.22"
          ],
          [
           "3.11"
          ],
          [
           "3.14"
          ],
          [
           "3.06"
          ],
          [
           "3.78"
          ],
          [
           "3.88"
          ],
          [
           "3.9"
          ],
          [
           "3.55"
          ],
          [
           "3.21"
          ],
          [
           "3.35"
          ],
          [
           "3.97"
          ],
          [
           "4.05"
          ],
          [
           "3.28"
          ],
          [
           "3.42"
          ],
          [
           "3.69"
          ],
          [
           "3.54"
          ],
          [
           "3.34"
          ],
          [
           "3.19"
          ],
          [
           "3.25"
          ],
          [
           "3.14"
          ],
          [
           "3.15"
          ],
          [
           "3.3"
          ],
          [
           "3.1"
          ],
          [
           "3.2"
          ],
          [
           "3.2"
          ],
          [
           "3.3"
          ],
          [
           "3.13"
          ],
          [
           "3.21"
          ],
          [
           "3.26"
          ],
          [
           "3.19"
          ],
          [
           "3.13"
          ],
          [
           "3.41"
          ],
          [
           "3.93"
          ],
          [
           "3.89"
          ],
          [
           "3.25"
          ],
          [
           "3.21"
          ],
          [
           "3.82"
          ],
          [
           "3.78"
          ],
          [
           "3.28"
          ],
          [
           "3.63"
          ],
          [
           "3.79"
          ],
          [
           "3.76"
          ],
          [
           "4.11"
          ],
          [
           "3.9"
          ],
          [
           "4.03"
          ],
          [
           "4.11"
          ],
          [
           "3.72"
          ],
          [
           "3.74"
          ],
          [
           "3.78"
          ],
          [
           "3.86"
          ],
          [
           "3.84"
          ],
          [
           "4.0"
          ],
          [
           "4.16"
          ],
          [
           "4.09"
          ],
          [
           "4.12"
          ],
          [
           "(?)"
          ],
          [
           "(?)"
          ],
          [
           "(?)"
          ],
          [
           "(?)"
          ],
          [
           "(?)"
          ],
          [
           "(?)"
          ],
          [
           "(?)"
          ],
          [
           "(?)"
          ],
          [
           "(?)"
          ],
          [
           "(?)"
          ]
         ],
         "domain": {
          "x": [
           0,
           1
          ],
          "y": [
           0,
           1
          ]
         },
         "hovertemplate": "labels=%{label}<br>USD_BRL=%{value}<br>parent=%{parent}<br>id=%{id}<extra></extra>",
         "ids": [
          "2010/Apr",
          "2010/Aug",
          "2010/Dec",
          "2010/Feb",
          "2010/Jan",
          "2010/Jul",
          "2010/Jun",
          "2010/Mar",
          "2010/May",
          "2010/Nov",
          "2010/Oct",
          "2010/Sep",
          "2011/Apr",
          "2011/Aug",
          "2011/Dec",
          "2011/Feb",
          "2011/Jan",
          "2011/Jul",
          "2011/Jun",
          "2011/Mar",
          "2011/May",
          "2011/Nov",
          "2011/Oct",
          "2011/Sep",
          "2012/Apr",
          "2012/Aug",
          "2012/Dec",
          "2012/Feb",
          "2012/Jan",
          "2012/Jul",
          "2012/Jun",
          "2012/Mar",
          "2012/May",
          "2012/Nov",
          "2012/Oct",
          "2012/Sep",
          "2013/Apr",
          "2013/Aug",
          "2013/Dec",
          "2013/Feb",
          "2013/Jan",
          "2013/Jul",
          "2013/Jun",
          "2013/Mar",
          "2013/May",
          "2013/Nov",
          "2013/Oct",
          "2013/Sep",
          "2014/Apr",
          "2014/Aug",
          "2014/Dec",
          "2014/Feb",
          "2014/Jan",
          "2014/Jul",
          "2014/Jun",
          "2014/Mar",
          "2014/May",
          "2014/Nov",
          "2014/Oct",
          "2014/Sep",
          "2015/Apr",
          "2015/Aug",
          "2015/Dec",
          "2015/Feb",
          "2015/Jan",
          "2015/Jul",
          "2015/Jun",
          "2015/Mar",
          "2015/May",
          "2015/Nov",
          "2015/Oct",
          "2015/Sep",
          "2016/Apr",
          "2016/Aug",
          "2016/Dec",
          "2016/Feb",
          "2016/Jan",
          "2016/Jul",
          "2016/Jun",
          "2016/Mar",
          "2016/May",
          "2016/Nov",
          "2016/Oct",
          "2016/Sep",
          "2017/Apr",
          "2017/Aug",
          "2017/Dec",
          "2017/Feb",
          "2017/Jan",
          "2017/Jul",
          "2017/Jun",
          "2017/Mar",
          "2017/May",
          "2017/Nov",
          "2017/Oct",
          "2017/Sep",
          "2018/Apr",
          "2018/Aug",
          "2018/Dec",
          "2018/Feb",
          "2018/Jan",
          "2018/Jul",
          "2018/Jun",
          "2018/Mar",
          "2018/May",
          "2018/Nov",
          "2018/Oct",
          "2018/Sep",
          "2019/Apr",
          "2019/Aug",
          "2019/Dec",
          "2019/Feb",
          "2019/Jan",
          "2019/Jul",
          "2019/Jun",
          "2019/Mar",
          "2019/May",
          "2019/Nov",
          "2019/Oct",
          "2019/Sep",
          "2010",
          "2011",
          "2012",
          "2013",
          "2014",
          "2015",
          "2016",
          "2017",
          "2018",
          "2019"
         ],
         "labels": [
          "Apr",
          "Aug",
          "Dec",
          "Feb",
          "Jan",
          "Jul",
          "Jun",
          "Mar",
          "May",
          "Nov",
          "Oct",
          "Sep",
          "Apr",
          "Aug",
          "Dec",
          "Feb",
          "Jan",
          "Jul",
          "Jun",
          "Mar",
          "May",
          "Nov",
          "Oct",
          "Sep",
          "Apr",
          "Aug",
          "Dec",
          "Feb",
          "Jan",
          "Jul",
          "Jun",
          "Mar",
          "May",
          "Nov",
          "Oct",
          "Sep",
          "Apr",
          "Aug",
          "Dec",
          "Feb",
          "Jan",
          "Jul",
          "Jun",
          "Mar",
          "May",
          "Nov",
          "Oct",
          "Sep",
          "Apr",
          "Aug",
          "Dec",
          "Feb",
          "Jan",
          "Jul",
          "Jun",
          "Mar",
          "May",
          "Nov",
          "Oct",
          "Sep",
          "Apr",
          "Aug",
          "Dec",
          "Feb",
          "Jan",
          "Jul",
          "Jun",
          "Mar",
          "May",
          "Nov",
          "Oct",
          "Sep",
          "Apr",
          "Aug",
          "Dec",
          "Feb",
          "Jan",
          "Jul",
          "Jun",
          "Mar",
          "May",
          "Nov",
          "Oct",
          "Sep",
          "Apr",
          "Aug",
          "Dec",
          "Feb",
          "Jan",
          "Jul",
          "Jun",
          "Mar",
          "May",
          "Nov",
          "Oct",
          "Sep",
          "Apr",
          "Aug",
          "Dec",
          "Feb",
          "Jan",
          "Jul",
          "Jun",
          "Mar",
          "May",
          "Nov",
          "Oct",
          "Sep",
          "Apr",
          "Aug",
          "Dec",
          "Feb",
          "Jan",
          "Jul",
          "Jun",
          "Mar",
          "May",
          "Nov",
          "Oct",
          "Sep",
          "2010",
          "2011",
          "2012",
          "2013",
          "2014",
          "2015",
          "2016",
          "2017",
          "2018",
          "2019"
         ],
         "name": "",
         "parents": [
          "2010",
          "2010",
          "2010",
          "2010",
          "2010",
          "2010",
          "2010",
          "2010",
          "2010",
          "2010",
          "2010",
          "2010",
          "2011",
          "2011",
          "2011",
          "2011",
          "2011",
          "2011",
          "2011",
          "2011",
          "2011",
          "2011",
          "2011",
          "2011",
          "2012",
          "2012",
          "2012",
          "2012",
          "2012",
          "2012",
          "2012",
          "2012",
          "2012",
          "2012",
          "2012",
          "2012",
          "2013",
          "2013",
          "2013",
          "2013",
          "2013",
          "2013",
          "2013",
          "2013",
          "2013",
          "2013",
          "2013",
          "2013",
          "2014",
          "2014",
          "2014",
          "2014",
          "2014",
          "2014",
          "2014",
          "2014",
          "2014",
          "2014",
          "2014",
          "2014",
          "2015",
          "2015",
          "2015",
          "2015",
          "2015",
          "2015",
          "2015",
          "2015",
          "2015",
          "2015",
          "2015",
          "2015",
          "2016",
          "2016",
          "2016",
          "2016",
          "2016",
          "2016",
          "2016",
          "2016",
          "2016",
          "2016",
          "2016",
          "2016",
          "2017",
          "2017",
          "2017",
          "2017",
          "2017",
          "2017",
          "2017",
          "2017",
          "2017",
          "2017",
          "2017",
          "2017",
          "2018",
          "2018",
          "2018",
          "2018",
          "2018",
          "2018",
          "2018",
          "2018",
          "2018",
          "2018",
          "2018",
          "2018",
          "2019",
          "2019",
          "2019",
          "2019",
          "2019",
          "2019",
          "2019",
          "2019",
          "2019",
          "2019",
          "2019",
          "2019",
          "",
          "",
          "",
          "",
          "",
          "",
          "",
          "",
          "",
          ""
         ],
         "textinfo": "label+text",
         "texttemplate": "%{label}<br>R$ %{customdata[0]}",
         "type": "treemap",
         "values": {
          "bdata": "OZiYWi0a/D+5eOIa6iP8P/IAvf3oE/s/ZkmAmlp2/T+Uj7OCN3r8P4DTcJ5zTfw/ncVfHPLu/D9LHbVKm5D8P2gtyFWqB/0/0Aar3e1k+z/U3fesrO/6P3DHfIt6f/s/cjHFmo1U+T8rqBv5RIn5P4n029eBc/0/6DV2ieqt+j8OR4FsAcv6P4P7rQjn//g/oOoZWOZi+T+an9LrSof6P0rHyNAbz/k/CQZ6ifym/D+gVRJExk/8PwYnOBTzAPw/Ef9vamOr/T+gy7oh1jgAQJVdWjv5ngBAFcDohyh6+z/6tsr0lp78P78qzE8zOgBAOAZN96VnAEB66mWdh7L8P8GO0Fd7vv8/9DsCjPCMAEBQ4kR8Ej4AQIEmwoanNwBAGJzgUMwDAEC3mt8RYMQCQDE4waGYxwJAMJkqGJWU/z822qXJMzwAQLpXblSNAAJAvtnmxvRkAUBYfMVXfMX/P5AJQeT5UABA/ZJQuQdkAkDeRBPKC4YBQMkOgmTTIgJAr6E+qqzZAUC0C4hNpSECQJ6ZAuJLLQVAQfFjzF0LA0BNua0TOQ0DQHoVph7hyQFAqYZoXU/fAUDezmrs+5wCQGdfWh8CxQFARncQO1NoBEA4m+xW+ZkDQNzCXZ4ZsAJAsF1EvMBYCECJ4GhzBxoMQFhvTGQABg9A5ldzgGCOBkDx3yaEWRQFQDydRU2rywlAf9j+DNnhCEDKFpSVnSgJQJfp2MObdghAyBOC12s7DkB9+vsDTwIPQFqiaPJWMw9At9xcuzJrDEAIPZtVn6sJQIQic4TByQpAnSt0jNO6D0Bs+oWvhTIQQLrwQrjFOwpArPIRuuFWC0BAg9qemIoNQOnFx5GvTwxAY4blhN25CkCjbQ9VC38JQMBiLIhVBQpAQmDl0CIbCUDRShFDpjgJQFE+QaP2XwpAUqBP5EnSCECjAbwFEpQJQDslj9FomglAgIbskCReCkDnN3vfDQMJQCfO+Eu6pQlA5mnsiRgXCkDNzMzMzIwJQPHTNsH2EQlAAv8WoRlGC0A4GciEIHIPQFEoieiWGw9Adr6fGi/9CUDrh1C6DrMJQKzXIArQlw5ARWIqJwhGDkATFX4yXDwKQEqPHtRfDQ1A2vEzt9hMDkCG/vSFMh0OQB2s/3OYbxBAlP0SpvwtD0B1+43BthwQQPl9K1D1bBBAmNh8XBvKDUDYBJDvbO0NQB/uMwTMQA5AO8JpwYveDkAFD+aJ+rcOQFbZjO0T9w9ApH+w+7ikEED7voROYVgQQDHYJJPofBBArJcdMLUeNUCtwQ2mshc0QNSSLMTccjdAtW6zjYznOUAqMkEu2T88QMLAoiGV/UNAAT5gCLrqREB8NHLUFCdDQN2KBvRN70VAQ3nVkLSrR0A=",
          "dtype": "f8"
         }
        }
       ],
       "layout": {
        "legend": {
         "tracegroupgap": 0
        },
        "template": {
         "data": {
          "bar": [
           {
            "error_x": {
             "color": "#2a3f5f"
            },
            "error_y": {
             "color": "#2a3f5f"
            },
            "marker": {
             "line": {
              "color": "#E5ECF6",
              "width": 0.5
             },
             "pattern": {
              "fillmode": "overlay",
              "size": 10,
              "solidity": 0.2
             }
            },
            "type": "bar"
           }
          ],
          "barpolar": [
           {
            "marker": {
             "line": {
              "color": "#E5ECF6",
              "width": 0.5
             },
             "pattern": {
              "fillmode": "overlay",
              "size": 10,
              "solidity": 0.2
             }
            },
            "type": "barpolar"
           }
          ],
          "carpet": [
           {
            "aaxis": {
             "endlinecolor": "#2a3f5f",
             "gridcolor": "white",
             "linecolor": "white",
             "minorgridcolor": "white",
             "startlinecolor": "#2a3f5f"
            },
            "baxis": {
             "endlinecolor": "#2a3f5f",
             "gridcolor": "white",
             "linecolor": "white",
             "minorgridcolor": "white",
             "startlinecolor": "#2a3f5f"
            },
            "type": "carpet"
           }
          ],
          "choropleth": [
           {
            "colorbar": {
             "outlinewidth": 0,
             "ticks": ""
            },
            "type": "choropleth"
           }
          ],
          "contour": [
           {
            "colorbar": {
             "outlinewidth": 0,
             "ticks": ""
            },
            "colorscale": [
             [
              0,
              "#0d0887"
             ],
             [
              0.1111111111111111,
              "#46039f"
             ],
             [
              0.2222222222222222,
              "#7201a8"
             ],
             [
              0.3333333333333333,
              "#9c179e"
             ],
             [
              0.4444444444444444,
              "#bd3786"
             ],
             [
              0.5555555555555556,
              "#d8576b"
             ],
             [
              0.6666666666666666,
              "#ed7953"
             ],
             [
              0.7777777777777778,
              "#fb9f3a"
             ],
             [
              0.8888888888888888,
              "#fdca26"
             ],
             [
              1,
              "#f0f921"
             ]
            ],
            "type": "contour"
           }
          ],
          "contourcarpet": [
           {
            "colorbar": {
             "outlinewidth": 0,
             "ticks": ""
            },
            "type": "contourcarpet"
           }
          ],
          "heatmap": [
           {
            "colorbar": {
             "outlinewidth": 0,
             "ticks": ""
            },
            "colorscale": [
             [
              0,
              "#0d0887"
             ],
             [
              0.1111111111111111,
              "#46039f"
             ],
             [
              0.2222222222222222,
              "#7201a8"
             ],
             [
              0.3333333333333333,
              "#9c179e"
             ],
             [
              0.4444444444444444,
              "#bd3786"
             ],
             [
              0.5555555555555556,
              "#d8576b"
             ],
             [
              0.6666666666666666,
              "#ed7953"
             ],
             [
              0.7777777777777778,
              "#fb9f3a"
             ],
             [
              0.8888888888888888,
              "#fdca26"
             ],
             [
              1,
              "#f0f921"
             ]
            ],
            "type": "heatmap"
           }
          ],
          "histogram": [
           {
            "marker": {
             "pattern": {
              "fillmode": "overlay",
              "size": 10,
              "solidity": 0.2
             }
            },
            "type": "histogram"
           }
          ],
          "histogram2d": [
           {
            "colorbar": {
             "outlinewidth": 0,
             "ticks": ""
            },
            "colorscale": [
             [
              0,
              "#0d0887"
             ],
             [
              0.1111111111111111,
              "#46039f"
             ],
             [
              0.2222222222222222,
              "#7201a8"
             ],
             [
              0.3333333333333333,
              "#9c179e"
             ],
             [
              0.4444444444444444,
              "#bd3786"
             ],
             [
              0.5555555555555556,
              "#d8576b"
             ],
             [
              0.6666666666666666,
              "#ed7953"
             ],
             [
              0.7777777777777778,
              "#fb9f3a"
             ],
             [
              0.8888888888888888,
              "#fdca26"
             ],
             [
              1,
              "#f0f921"
             ]
            ],
            "type": "histogram2d"
           }
          ],
          "histogram2dcontour": [
           {
            "colorbar": {
             "outlinewidth": 0,
             "ticks": ""
            },
            "colorscale": [
             [
              0,
              "#0d0887"
             ],
             [
              0.1111111111111111,
              "#46039f"
             ],
             [
              0.2222222222222222,
              "#7201a8"
             ],
             [
              0.3333333333333333,
              "#9c179e"
             ],
             [
              0.4444444444444444,
              "#bd3786"
             ],
             [
              0.5555555555555556,
              "#d8576b"
             ],
             [
              0.6666666666666666,
              "#ed7953"
             ],
             [
              0.7777777777777778,
              "#fb9f3a"
             ],
             [
              0.8888888888888888,
              "#fdca26"
             ],
             [
              1,
              "#f0f921"
             ]
            ],
            "type": "histogram2dcontour"
           }
          ],
          "mesh3d": [
           {
            "colorbar": {
             "outlinewidth": 0,
             "ticks": ""
            },
            "type": "mesh3d"
           }
          ],
          "parcoords": [
           {
            "line": {
             "colorbar": {
              "outlinewidth": 0,
              "ticks": ""
             }
            },
            "type": "parcoords"
           }
          ],
          "pie": [
           {
            "automargin": true,
            "type": "pie"
           }
          ],
          "scatter": [
           {
            "fillpattern": {
             "fillmode": "overlay",
             "size": 10,
             "solidity": 0.2
            },
            "type": "scatter"
           }
          ],
          "scatter3d": [
           {
            "line": {
             "colorbar": {
              "outlinewidth": 0,
              "ticks": ""
             }
            },
            "marker": {
             "colorbar": {
              "outlinewidth": 0,
              "ticks": ""
             }
            },
            "type": "scatter3d"
           }
          ],
          "scattercarpet": [
           {
            "marker": {
             "colorbar": {
              "outlinewidth": 0,
              "ticks": ""
             }
            },
            "type": "scattercarpet"
           }
          ],
          "scattergeo": [
           {
            "marker": {
             "colorbar": {
              "outlinewidth": 0,
              "ticks": ""
             }
            },
            "type": "scattergeo"
           }
          ],
          "scattergl": [
           {
            "marker": {
             "colorbar": {
              "outlinewidth": 0,
              "ticks": ""
             }
            },
            "type": "scattergl"
           }
          ],
          "scattermap": [
           {
            "marker": {
             "colorbar": {
              "outlinewidth": 0,
              "ticks": ""
             }
            },
            "type": "scattermap"
           }
          ],
          "scattermapbox": [
           {
            "marker": {
             "colorbar": {
              "outlinewidth": 0,
              "ticks": ""
             }
            },
            "type": "scattermapbox"
           }
          ],
          "scatterpolar": [
           {
            "marker": {
             "colorbar": {
              "outlinewidth": 0,
              "ticks": ""
             }
            },
            "type": "scatterpolar"
           }
          ],
          "scatterpolargl": [
           {
            "marker": {
             "colorbar": {
              "outlinewidth": 0,
              "ticks": ""
             }
            },
            "type": "scatterpolargl"
           }
          ],
          "scatterternary": [
           {
            "marker": {
             "colorbar": {
              "outlinewidth": 0,
              "ticks": ""
             }
            },
            "type": "scatterternary"
           }
          ],
          "surface": [
           {
            "colorbar": {
             "outlinewidth": 0,
             "ticks": ""
            },
            "colorscale": [
             [
              0,
              "#0d0887"
             ],
             [
              0.1111111111111111,
              "#46039f"
             ],
             [
              0.2222222222222222,
              "#7201a8"
             ],
             [
              0.3333333333333333,
              "#9c179e"
             ],
             [
              0.4444444444444444,
              "#bd3786"
             ],
             [
              0.5555555555555556,
              "#d8576b"
             ],
             [
              0.6666666666666666,
              "#ed7953"
             ],
             [
              0.7777777777777778,
              "#fb9f3a"
             ],
             [
              0.8888888888888888,
              "#fdca26"
             ],
             [
              1,
              "#f0f921"
             ]
            ],
            "type": "surface"
           }
          ],
          "table": [
           {
            "cells": {
             "fill": {
              "color": "#EBF0F8"
             },
             "line": {
              "color": "white"
             }
            },
            "header": {
             "fill": {
              "color": "#C8D4E3"
             },
             "line": {
              "color": "white"
             }
            },
            "type": "table"
           }
          ]
         },
         "layout": {
          "annotationdefaults": {
           "arrowcolor": "#2a3f5f",
           "arrowhead": 0,
           "arrowwidth": 1
          },
          "autotypenumbers": "strict",
          "coloraxis": {
           "colorbar": {
            "outlinewidth": 0,
            "ticks": ""
           }
          },
          "colorscale": {
           "diverging": [
            [
             0,
             "#8e0152"
            ],
            [
             0.1,
             "#c51b7d"
            ],
            [
             0.2,
             "#de77ae"
            ],
            [
             0.3,
             "#f1b6da"
            ],
            [
             0.4,
             "#fde0ef"
            ],
            [
             0.5,
             "#f7f7f7"
            ],
            [
             0.6,
             "#e6f5d0"
            ],
            [
             0.7,
             "#b8e186"
            ],
            [
             0.8,
             "#7fbc41"
            ],
            [
             0.9,
             "#4d9221"
            ],
            [
             1,
             "#276419"
            ]
           ],
           "sequential": [
            [
             0,
             "#0d0887"
            ],
            [
             0.1111111111111111,
             "#46039f"
            ],
            [
             0.2222222222222222,
             "#7201a8"
            ],
            [
             0.3333333333333333,
             "#9c179e"
            ],
            [
             0.4444444444444444,
             "#bd3786"
            ],
            [
             0.5555555555555556,
             "#d8576b"
            ],
            [
             0.6666666666666666,
             "#ed7953"
            ],
            [
             0.7777777777777778,
             "#fb9f3a"
            ],
            [
             0.8888888888888888,
             "#fdca26"
            ],
            [
             1,
             "#f0f921"
            ]
           ],
           "sequentialminus": [
            [
             0,
             "#0d0887"
            ],
            [
             0.1111111111111111,
             "#46039f"
            ],
            [
             0.2222222222222222,
             "#7201a8"
            ],
            [
             0.3333333333333333,
             "#9c179e"
            ],
            [
             0.4444444444444444,
             "#bd3786"
            ],
            [
             0.5555555555555556,
             "#d8576b"
            ],
            [
             0.6666666666666666,
             "#ed7953"
            ],
            [
             0.7777777777777778,
             "#fb9f3a"
            ],
            [
             0.8888888888888888,
             "#fdca26"
            ],
            [
             1,
             "#f0f921"
            ]
           ]
          },
          "colorway": [
           "#636efa",
           "#EF553B",
           "#00cc96",
           "#ab63fa",
           "#FFA15A",
           "#19d3f3",
           "#FF6692",
           "#B6E880",
           "#FF97FF",
           "#FECB52"
          ],
          "font": {
           "color": "#2a3f5f"
          },
          "geo": {
           "bgcolor": "white",
           "lakecolor": "white",
           "landcolor": "#E5ECF6",
           "showlakes": true,
           "showland": true,
           "subunitcolor": "white"
          },
          "hoverlabel": {
           "align": "left"
          },
          "hovermode": "closest",
          "mapbox": {
           "style": "light"
          },
          "paper_bgcolor": "white",
          "plot_bgcolor": "#E5ECF6",
          "polar": {
           "angularaxis": {
            "gridcolor": "white",
            "linecolor": "white",
            "ticks": ""
           },
           "bgcolor": "#E5ECF6",
           "radialaxis": {
            "gridcolor": "white",
            "linecolor": "white",
            "ticks": ""
           }
          },
          "scene": {
           "xaxis": {
            "backgroundcolor": "#E5ECF6",
            "gridcolor": "white",
            "gridwidth": 2,
            "linecolor": "white",
            "showbackground": true,
            "ticks": "",
            "zerolinecolor": "white"
           },
           "yaxis": {
            "backgroundcolor": "#E5ECF6",
            "gridcolor": "white",
            "gridwidth": 2,
            "linecolor": "white",
            "showbackground": true,
            "ticks": "",
            "zerolinecolor": "white"
           },
           "zaxis": {
            "backgroundcolor": "#E5ECF6",
            "gridcolor": "white",
            "gridwidth": 2,
            "linecolor": "white",
            "showbackground": true,
            "ticks": "",
            "zerolinecolor": "white"
           }
          },
          "shapedefaults": {
           "line": {
            "color": "#2a3f5f"
           }
          },
          "ternary": {
           "aaxis": {
            "gridcolor": "white",
            "linecolor": "white",
            "ticks": ""
           },
           "baxis": {
            "gridcolor": "white",
            "linecolor": "white",
            "ticks": ""
           },
           "bgcolor": "#E5ECF6",
           "caxis": {
            "gridcolor": "white",
            "linecolor": "white",
            "ticks": ""
           }
          },
          "title": {
           "x": 0.05
          },
          "xaxis": {
           "automargin": true,
           "gridcolor": "white",
           "linecolor": "white",
           "ticks": "",
           "title": {
            "standoff": 15
           },
           "zerolinecolor": "white",
           "zerolinewidth": 2
          },
          "yaxis": {
           "automargin": true,
           "gridcolor": "white",
           "linecolor": "white",
           "ticks": "",
           "title": {
            "standoff": 15
           },
           "zerolinecolor": "white",
           "zerolinewidth": 2
          }
         }
        },
        "title": {
         "text": "Treemap de Média Mensal USD/BRL por Ano"
        }
       }
      }
     },
     "metadata": {},
     "output_type": "display_data"
    }
   ],
   "source": [
    "# visualização hierárquica de dados com treemap\n",
    "import pandas as pd\n",
    "import plotly.express as px\n",
    "\n",
    "df = pd.read_csv(\"USD_BRL_hist.csv\")\n",
    "df['Data'] = pd.to_datetime(df['Data'], dayfirst=True)\n",
    "df['Ano'] = df['Data'].dt.year  # extrai o ano\n",
    "df['Mês'] = df['Data'].dt.strftime('%b')  # extrai o mês em formato abreviado\n",
    "\n",
    "media_mensal = df.groupby(['Ano', 'Mês'])['USD_BRL'].mean().reset_index()  # calcula a média mensal\n",
    "media_mensal['Texto'] = media_mensal['USD_BRL'].round(2).astype(str)  # formata o texto\n",
    "\n",
    "fig = px.treemap(media_mensal,\n",
    "                 path=['Ano', 'Mês'],\n",
    "                 values='USD_BRL',  # o tamanho de cada node é proporcional à média mensal\n",
    "                 title='Treemap de Média Mensal USD/BRL por Ano',\n",
    "                 custom_data=['Texto'])\n",
    "\n",
    "fig.update_traces(\n",
    "    texttemplate='%{label}<br>R$ %{customdata[0]}',\n",
    "    textinfo='label+text'  # exibe o rótulo e o texto formatado\n",
    ")\n",
    "\n",
    "fig.show()\n"
   ]
  }
 ],
 "metadata": {
  "kernelspec": {
   "display_name": "Python 3",
   "language": "python",
   "name": "python3"
  },
  "language_info": {
   "codemirror_mode": {
    "name": "ipython",
    "version": 3
   },
   "file_extension": ".py",
   "mimetype": "text/x-python",
   "name": "python",
   "nbconvert_exporter": "python",
   "pygments_lexer": "ipython3",
   "version": "3.11.9"
  }
 },
 "nbformat": 4,
 "nbformat_minor": 5
}
